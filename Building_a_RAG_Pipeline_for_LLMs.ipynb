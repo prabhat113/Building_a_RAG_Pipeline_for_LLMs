{
  "nbformat": 4,
  "nbformat_minor": 0,
  "metadata": {
    "colab": {
      "provenance": [],
      "toc_visible": true
    },
    "kernelspec": {
      "name": "python3",
      "display_name": "Python 3"
    },
    "language_info": {
      "name": "python"
    }
  },
  "cells": [
    {
      "cell_type": "code",
      "source": [
        "!pip install wikipedia\n"
      ],
      "metadata": {
        "colab": {
          "base_uri": "https://localhost:8080/"
        },
        "id": "FfgIL1caUWvN",
        "outputId": "19d73571-0e43-4141-ee99-c44a8bfece88"
      },
      "execution_count": 16,
      "outputs": [
        {
          "output_type": "stream",
          "name": "stdout",
          "text": [
            "Requirement already satisfied: wikipedia in /usr/local/lib/python3.11/dist-packages (1.4.0)\n",
            "Requirement already satisfied: beautifulsoup4 in /usr/local/lib/python3.11/dist-packages (from wikipedia) (4.13.4)\n",
            "Requirement already satisfied: requests<3.0.0,>=2.0.0 in /usr/local/lib/python3.11/dist-packages (from wikipedia) (2.32.3)\n",
            "Requirement already satisfied: charset-normalizer<4,>=2 in /usr/local/lib/python3.11/dist-packages (from requests<3.0.0,>=2.0.0->wikipedia) (3.4.2)\n",
            "Requirement already satisfied: idna<4,>=2.5 in /usr/local/lib/python3.11/dist-packages (from requests<3.0.0,>=2.0.0->wikipedia) (3.10)\n",
            "Requirement already satisfied: urllib3<3,>=1.21.1 in /usr/local/lib/python3.11/dist-packages (from requests<3.0.0,>=2.0.0->wikipedia) (2.4.0)\n",
            "Requirement already satisfied: certifi>=2017.4.17 in /usr/local/lib/python3.11/dist-packages (from requests<3.0.0,>=2.0.0->wikipedia) (2025.4.26)\n",
            "Requirement already satisfied: soupsieve>1.2 in /usr/local/lib/python3.11/dist-packages (from beautifulsoup4->wikipedia) (2.7)\n",
            "Requirement already satisfied: typing-extensions>=4.0.0 in /usr/local/lib/python3.11/dist-packages (from beautifulsoup4->wikipedia) (4.14.0)\n"
          ]
        }
      ]
    },
    {
      "cell_type": "code",
      "source": [
        "!pip install faiss-cpu"
      ],
      "metadata": {
        "colab": {
          "base_uri": "https://localhost:8080/"
        },
        "id": "RbzqkIBCUtD7",
        "outputId": "fc442422-b15c-495e-e2a3-fa009e29d5cf"
      },
      "execution_count": 17,
      "outputs": [
        {
          "output_type": "stream",
          "name": "stdout",
          "text": [
            "Requirement already satisfied: faiss-cpu in /usr/local/lib/python3.11/dist-packages (1.11.0)\n",
            "Requirement already satisfied: numpy<3.0,>=1.25.0 in /usr/local/lib/python3.11/dist-packages (from faiss-cpu) (2.0.2)\n",
            "Requirement already satisfied: packaging in /usr/local/lib/python3.11/dist-packages (from faiss-cpu) (24.2)\n"
          ]
        }
      ]
    },
    {
      "cell_type": "code",
      "execution_count": 18,
      "metadata": {
        "id": "_a5MC2xbTSZe"
      },
      "outputs": [],
      "source": [
        "import wikipedia\n",
        "from transformers import AutoTokenizer, AutoModelForQuestionAnswering, pipeline\n",
        "from sentence_transformers import SentenceTransformer\n",
        "import faiss\n",
        "import numpy as np"
      ]
    },
    {
      "cell_type": "code",
      "source": [
        "def get_wikipedia_content(topic):\n",
        "    try:\n",
        "        page = wikipedia.page(topic)\n",
        "        return page.content\n",
        "    except wikipedia.exceptions.PageError:\n",
        "        return None\n",
        "    except wikipedia.exceptions.DisambiguationError as e:\n",
        "        # handle cases where the topic is ambiguous\n",
        "        print(f\"Ambiguous topic. Please be more specific. Options: {e.options}\")\n",
        "        return None\n",
        "\n",
        "# user input\n",
        "topic = input(\"Enter a topic to learn about: \")\n",
        "document = get_wikipedia_content(topic)\n",
        "\n",
        "if not document:\n",
        "    print(\"Could not retrieve information.\")\n",
        "    exit()"
      ],
      "metadata": {
        "colab": {
          "base_uri": "https://localhost:8080/"
        },
        "id": "eHPktneMTcoh",
        "outputId": "7d05c169-2358-4151-b905-a73a3388bacd"
      },
      "execution_count": 19,
      "outputs": [
        {
          "name": "stdout",
          "output_type": "stream",
          "text": [
            "Enter a topic to learn about: Apple Computers\n"
          ]
        }
      ]
    },
    {
      "cell_type": "code",
      "source": [
        "tokenizer = AutoTokenizer.from_pretrained(\"sentence-transformers/all-mpnet-base-v2\")\n",
        "\n",
        "def split_text(text, chunk_size=256, chunk_overlap=20):\n",
        "    tokens = tokenizer.tokenize(text)\n",
        "    chunks = []\n",
        "    start = 0\n",
        "    while start < len(tokens):\n",
        "        end = min(start + chunk_size, len(tokens))\n",
        "        chunks.append(tokenizer.convert_tokens_to_string(tokens[start:end]))\n",
        "        if end == len(tokens):\n",
        "            break\n",
        "        start = end - chunk_overlap\n",
        "    return chunks\n",
        "\n",
        "chunks = split_text(document)\n",
        "print(f\"Number of chunks: {len(chunks)}\")"
      ],
      "metadata": {
        "colab": {
          "base_uri": "https://localhost:8080/"
        },
        "id": "0uK2VwbwTgk1",
        "outputId": "1215971c-d2c0-487b-ffa7-72ada6a4de2d"
      },
      "execution_count": 22,
      "outputs": [
        {
          "output_type": "stream",
          "name": "stderr",
          "text": [
            "Token indices sequence length is longer than the specified maximum sequence length for this model (17546 > 512). Running this sequence through the model will result in indexing errors\n"
          ]
        },
        {
          "output_type": "stream",
          "name": "stdout",
          "text": [
            "Number of chunks: 75\n"
          ]
        }
      ]
    },
    {
      "cell_type": "code",
      "source": [
        "embedding_model = SentenceTransformer(\"sentence-transformers/all-mpnet-base-v2\")\n",
        "embeddings = embedding_model.encode(chunks)\n",
        "\n",
        "dimension = embeddings.shape[1]\n",
        "index = faiss.IndexFlatL2(dimension)\n",
        "index.add(np.array(embeddings))"
      ],
      "metadata": {
        "id": "L6Vwkfu4VT6C"
      },
      "execution_count": 23,
      "outputs": []
    },
    {
      "cell_type": "code",
      "source": [
        "query = input(\"Ask a question about the topic: \")\n",
        "query_embedding = embedding_model.encode([query])\n",
        "\n",
        "k = 3\n",
        "distances, indices = index.search(np.array(query_embedding), k)\n",
        "retrieved_chunks = [chunks[i] for i in indices[0]]\n",
        "print(\"Retrieved chunks:\")\n",
        "for chunk in retrieved_chunks:\n",
        "    print(\"- \" + chunk)"
      ],
      "metadata": {
        "colab": {
          "base_uri": "https://localhost:8080/"
        },
        "id": "PAzewZ7AVXUq",
        "outputId": "2968f76c-fd8a-4c88-f097-f93ae2e90143"
      },
      "execution_count": 24,
      "outputs": [
        {
          "output_type": "stream",
          "name": "stdout",
          "text": [
            "Ask a question about the topic: Legal Cases Against Apple Computers\n",
            "Retrieved chunks:\n",
            "- apple v. microsoft, motorola mobility v. apple inc., and apple corps v. apple computer. apple has also had to defend itself against charges on numerous occasions of violating intellectual property rights. most have been dismissed in the courts as shell companies known as patent trolls, with no evidence of actual use of patents in question. on december 21, 2016, nokia announced that in the u. s. and germany, it has filed a suit against apple, claiming that the latter ' s products infringe on nokia ' s patents. most recently, in november 2017, the united states international trade commission announced an investigation into allegations of patent infringement in regards to apple ' s remote desktop technology ; aqua connect, a company that builds remote desktop software, has claimed that apple infringed on two of its patents. epic games filed lawsuit against apple in august 2020 in the united states district court for the northern district of california, related to apple ' s practices in the ios app store. in january 2022, ericsson sued apple over payment of royalty of 5g technology. on june 24, 2024, the european commission accused apple of violating the digital markets act by preventing \" app developers from freely steering consumers to alternative channels for offers and content \". in april 2025,\n",
            "- of december 2017. strong product sales have placed apple among the top - tier retail stores, with sales over $ 16 billion globally in 2011. apple stores underwent a period of significant redesign, beginning in may 2016. this redesign included physical changes to the apple stores, such as open spaces and re - branded rooms, and changes in function to facilitate interaction between consumers and professionals. many apple stores are located inside shopping malls, but apple has built several stand - alone \" flagship \" stores in high - profile locations. it has been granted design patents and received architectural awards for its stores ' designs and construction, specifically for its use of glass staircases and cubes. the success of apple stores have had significant influence over other consumer electronics retailers, who have lost traffic, control and profits due to a perceived higher quality of service and products at apple stores. due to the popularity of the brand, apple receives a large number of job applications, many of which come from young workers. although apple store employees receive above - average pay, are offered money toward education and health care, and receive product discounts, there are limited or no paths of career advancement. = = = market power = = = on march 16, 2020, france fined apple €1. 1 billion for colluding with two\n",
            "- capabilities. on november 1, 2024, apple announced its acquisition of pixelmator, a company known for its image editing applications for iphone and mac. apple had previously showcased pixelmator ' s apps during its product launches, including naming pixelmator pro its mac app of the year in 2018 for its innovative use of machine learning and ai. in the announcement, pixelmator stated that there would be no significant changes to its existing apps following the acquisition. on december 31, 2024, a preliminary settlement was filed in the oakland, california federal court that accused apple of unlawfully recording private conversations through unintentional siri activations and shared them with third parties, including advertisers. apple agreed to a $ 95 million cash settlement to resolve this lawsuit in which its siri assistant violated user privacy. while denying any wrongdoing, apple settled the case, allowing affected users to potentially claim up to $ 20 per device. attorneys sought $ 28. 5 million in fees from the settlement fund. = = products = = since the company ' s founding and into the early 2000s, apple primarily sold computers, which are marketed as macintosh since the mid - 1980s. since then, the company has expanded its product categories to include various portable devices, starting with\n"
          ]
        }
      ]
    },
    {
      "cell_type": "code",
      "source": [
        "qa_model_name = \"deepset/roberta-base-squad2\"\n",
        "qa_tokenizer = AutoTokenizer.from_pretrained(qa_model_name)\n",
        "qa_model = AutoModelForQuestionAnswering.from_pretrained(qa_model_name)\n",
        "qa_pipeline = pipeline(\"question-answering\", model=qa_model, tokenizer=qa_tokenizer)\n",
        "\n",
        "context = \" \".join(retrieved_chunks)\n",
        "answer = qa_pipeline(question=query, context=context)\n",
        "print(f\"Answer: {answer['answer']}\")"
      ],
      "metadata": {
        "colab": {
          "base_uri": "https://localhost:8080/"
        },
        "id": "ow5rJq8iXJHV",
        "outputId": "341af8ed-fecf-4954-ab9c-791265ca3ec3"
      },
      "execution_count": 25,
      "outputs": [
        {
          "output_type": "stream",
          "name": "stderr",
          "text": [
            "Device set to use cpu\n"
          ]
        },
        {
          "output_type": "stream",
          "name": "stdout",
          "text": [
            "Answer: apple corps v. apple computer\n"
          ]
        }
      ]
    },
    {
      "cell_type": "code",
      "source": [],
      "metadata": {
        "id": "RtWYOZRrXOcO"
      },
      "execution_count": null,
      "outputs": []
    }
  ]
}